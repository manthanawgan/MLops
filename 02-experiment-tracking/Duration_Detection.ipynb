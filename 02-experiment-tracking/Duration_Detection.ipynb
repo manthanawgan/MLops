{
  "cells": [
    {
      "cell_type": "markdown",
      "metadata": {
        "colab_type": "text",
        "id": "view-in-github"
      },
      "source": [
        "<a href=\"https://colab.research.google.com/github/manthanawgan/MLops/blob/main/Duration_Detection.ipynb\" target=\"_parent\"><img src=\"https://colab.research.google.com/assets/colab-badge.svg\" alt=\"Open In Colab\"/></a>"
      ]
    },
    {
      "cell_type": "code",
      "execution_count": 7,
      "id": "df970870",
      "metadata": {
        "id": "df970870"
      },
      "outputs": [],
      "source": [
        "import sklearn\n",
        "import pandas as pd\n",
        "import seaborn as sns\n",
        "import matplotlib.pyplot as plt"
      ]
    },
    {
      "cell_type": "code",
      "execution_count": 8,
      "id": "Vn4q1rAm_bR2",
      "metadata": {
        "id": "Vn4q1rAm_bR2"
      },
      "outputs": [],
      "source": [
        "from sklearn.feature_extraction import DictVectorizer\n",
        "from sklearn.linear_model import LinearRegression\n",
        "from sklearn.linear_model import Lasso\n",
        "from sklearn.metrics import root_mean_squared_error\n"
      ]
    },
    {
      "cell_type": "code",
      "execution_count": null,
      "id": "ae745eda",
      "metadata": {},
      "outputs": [],
      "source": [
        "import xgboost as xgb\n",
        "from hyperopt import fmin"
      ]
    },
    {
      "cell_type": "code",
      "execution_count": null,
      "id": "57802f19",
      "metadata": {},
      "outputs": [
        {
          "data": {
            "text/plain": [
              "<Experiment: artifact_location='file:///d:/coding/Learning/MLops/02-experiment-tracking/mlruns/1', creation_time=1746204838744, experiment_id='1', last_update_time=1746204838744, lifecycle_stage='active', name='exp1-duration-detection', tags={}>"
            ]
          },
          "execution_count": 9,
          "metadata": {},
          "output_type": "execute_result"
        }
      ],
      "source": [
        "import mlflow \n",
        "\n",
        "mlflow.set_tracking_uri('sqlite:///mlflow.db')\n",
        "mlflow.set_experiment(\"exp1-duration-detection\")\n"
      ]
    },
    {
      "cell_type": "code",
      "execution_count": 10,
      "id": "Aaqu8LCp7-IH",
      "metadata": {
        "id": "Aaqu8LCp7-IH"
      },
      "outputs": [],
      "source": [
        "import pickle"
      ]
    },
    {
      "cell_type": "code",
      "execution_count": 15,
      "id": "R1-hJAysDtYs",
      "metadata": {
        "id": "R1-hJAysDtYs"
      },
      "outputs": [],
      "source": [
        "def read_dataframe(filename):\n",
        "    if filename.endswith('.csv'):\n",
        "        df = pd.read_csv(filename)\n",
        "\n",
        "        df.lpep_dropoff_datetime = pd.to_datetime(df.lpep_dropoff_datetime)\n",
        "        df.lpep_pickup_datetime = pd.to_datetime(df.lpep_pickup_datetime)\n",
        "    elif filename.endswith('.parquet'):\n",
        "        df = pd.read_parquet(filename)\n",
        "\n",
        "    df['duration'] = df.lpep_dropoff_datetime - df.lpep_pickup_datetime\n",
        "    df.duration = df.duration.apply(lambda td: td.total_seconds() / 60)\n",
        "\n",
        "    df = df[(df.duration >= 1) & (df.duration <= 60)]\n",
        "\n",
        "    categorical = ['PULocationID', 'DOLocationID']\n",
        "    df[categorical] = df[categorical].astype(str)\n",
        "\n",
        "    return df"
      ]
    },
    {
      "cell_type": "code",
      "execution_count": 21,
      "id": "3SKdwmz2E-71",
      "metadata": {
        "id": "3SKdwmz2E-71"
      },
      "outputs": [],
      "source": [
        "df_train = read_dataframe('./data/green_tripdata_2021-01.parquet')\n",
        "df_val = read_dataframe('./data/green_tripdata_2021-02.parquet')"
      ]
    },
    {
      "cell_type": "code",
      "execution_count": 22,
      "id": "l9B1nFDUGH8h",
      "metadata": {
        "colab": {
          "base_uri": "https://localhost:8080/"
        },
        "id": "l9B1nFDUGH8h",
        "outputId": "042debed-56d9-4438-9c3f-86f5c66d0d9f"
      },
      "outputs": [
        {
          "data": {
            "text/plain": [
              "(73908, 61921)"
            ]
          },
          "execution_count": 22,
          "metadata": {},
          "output_type": "execute_result"
        }
      ],
      "source": [
        "len(df_train), len(df_val)"
      ]
    },
    {
      "cell_type": "code",
      "execution_count": 23,
      "id": "AENnaGA7JOtq",
      "metadata": {
        "id": "AENnaGA7JOtq"
      },
      "outputs": [],
      "source": [
        "df_train['PU_DO'] = df_train['PULocationID'] + '_' + df_train['DOLocationID']\n",
        "df_val['PU_DO'] = df_val['PULocationID'] + '_' + df_val['DOLocationID']"
      ]
    },
    {
      "cell_type": "code",
      "execution_count": 24,
      "id": "R4bf3wVzOnV5",
      "metadata": {
        "id": "R4bf3wVzOnV5"
      },
      "outputs": [],
      "source": [
        "categorical = ['PU_DO'] #'PULocationID', 'DOLocationID']\n",
        "numerical = ['trip_distance']\n",
        "\n",
        "dv = DictVectorizer()\n",
        "\n",
        "train_dicts = df_train[categorical + numerical].to_dict(orient='records')\n",
        "X_train = dv.fit_transform(train_dicts)\n",
        "\n",
        "val_dicts = df_val[categorical + numerical].to_dict(orient='records')\n",
        "X_val = dv.transform(val_dicts)"
      ]
    },
    {
      "cell_type": "code",
      "execution_count": 25,
      "id": "CaIJzKu3QsBQ",
      "metadata": {
        "id": "CaIJzKu3QsBQ"
      },
      "outputs": [],
      "source": [
        "target = 'duration'\n",
        "y_train = df_train[target].values\n",
        "y_val = df_val[target].values"
      ]
    },
    {
      "cell_type": "code",
      "execution_count": 26,
      "id": "9g09eTarRF2-",
      "metadata": {
        "colab": {
          "base_uri": "https://localhost:8080/"
        },
        "id": "9g09eTarRF2-",
        "outputId": "bfc726b2-4968-4646-b771-1255c6d8dc05"
      },
      "outputs": [
        {
          "data": {
            "text/plain": [
              "7.758715205596356"
            ]
          },
          "execution_count": 26,
          "metadata": {},
          "output_type": "execute_result"
        }
      ],
      "source": [
        "lr = LinearRegression()\n",
        "lr.fit(X_train, y_train)\n",
        "\n",
        "y_pred = lr.predict(X_val)\n",
        "\n",
        "root_mean_squared_error(y_val, y_pred)"
      ]
    },
    {
      "cell_type": "code",
      "execution_count": 16,
      "id": "F_QPcxwD6Ozt",
      "metadata": {
        "colab": {
          "base_uri": "https://localhost:8080/",
          "height": 829
        },
        "id": "F_QPcxwD6Ozt",
        "outputId": "31e4a38a-5c1e-4477-ffc2-512b6c89c51d"
      },
      "outputs": [
        {
          "name": "stderr",
          "output_type": "stream",
          "text": [
            "C:\\Users\\ASUS\\AppData\\Local\\Temp\\ipykernel_28640\\3130867531.py:1: UserWarning: \n",
            "\n",
            "`distplot` is a deprecated function and will be removed in seaborn v0.14.0.\n",
            "\n",
            "Please adapt your code to use either `displot` (a figure-level function with\n",
            "similar flexibility) or `histplot` (an axes-level function for histograms).\n",
            "\n",
            "For a guide to updating your code to use the new functions, please see\n",
            "https://gist.github.com/mwaskom/de44147ed2974457ad6372750bbe5751\n",
            "\n",
            "  sns.distplot(y_train, label='prediction')\n",
            "C:\\Users\\ASUS\\AppData\\Local\\Temp\\ipykernel_28640\\3130867531.py:2: UserWarning: \n",
            "\n",
            "`distplot` is a deprecated function and will be removed in seaborn v0.14.0.\n",
            "\n",
            "Please adapt your code to use either `displot` (a figure-level function with\n",
            "similar flexibility) or `histplot` (an axes-level function for histograms).\n",
            "\n",
            "For a guide to updating your code to use the new functions, please see\n",
            "https://gist.github.com/mwaskom/de44147ed2974457ad6372750bbe5751\n",
            "\n",
            "  sns.distplot(y_pred, label='actual')\n"
          ]
        },
        {
          "data": {
            "text/plain": [
              "<matplotlib.legend.Legend at 0x2a1bd1e5d00>"
            ]
          },
          "execution_count": 16,
          "metadata": {},
          "output_type": "execute_result"
        },
        {
          "data": {
            "image/png": "[encoded data removed]",
            "text/plain": [
              "<Figure size 640x480 with 1 Axes>"
            ]
          },
          "metadata": {},
          "output_type": "display_data"
        }
      ],
      "source": [
        "sns.distplot(y_train, label='prediction')\n",
        "sns.distplot(y_pred, label='actual')\n",
        "\n",
        "plt.legend()"
      ]
    },
    {
      "cell_type": "code",
      "execution_count": 27,
      "id": "LMMoNgGu83A1",
      "metadata": {
        "colab": {
          "base_uri": "https://localhost:8080/",
          "height": 158
        },
        "id": "LMMoNgGu83A1",
        "outputId": "348db38d-da80-4b48-f766-4d56b8c6a3f9"
      },
      "outputs": [],
      "source": [
        "with open('models/lin_reg.bin', 'wb') as f_out:\n",
        "    pickle.dump((dv, lr), f_out)"
      ]
    },
    {
      "cell_type": "code",
      "execution_count": 36,
      "id": "WjD9iFfA6qay",
      "metadata": {
        "colab": {
          "base_uri": "https://localhost:8080/"
        },
        "id": "WjD9iFfA6qay",
        "outputId": "c98ca399-09eb-40d6-817e-c7d3f2136886"
      },
      "outputs": [
        {
          "name": "stdout",
          "output_type": "stream",
          "text": [
            "7.616617761096093\n"
          ]
        }
      ],
      "source": [
        "with mlflow.start_run():\n",
        "\n",
        "    mlflow.set_tag(\"developer\", \"Manthan\")\n",
        "    mlflow.log_param(\"train-data\",\"./data/green_tripdata_2021-01.parquet\")\n",
        "    mlflow.log_param(\"valid-data\",\"./data/green_tripdata_2021-02.parquet\")\n",
        "\n",
        "    \n",
        "\n",
        "    alpha = 0.0001\n",
        "    mlflow.log_param(\"alpha\", alpha)\n",
        "    ls = Lasso(alpha)\n",
        "    ls.fit(X_train, y_train)\n",
        "\n",
        "    y_pred = ls.predict(X_val)\n",
        "    rmse = root_mean_squared_error(y_val, y_pred)\n",
        "    mlflow.log_metric(\"rmse\", rmse)\n",
        "\n",
        "    print(rmse)"
      ]
    },
    {
      "cell_type": "code",
      "execution_count": null,
      "id": "Ffs-Fwbn7UCC",
      "metadata": {
        "id": "Ffs-Fwbn7UCC"
      },
      "outputs": [],
      "source": []
    }
  ],
  "metadata": {
    "colab": {
      "include_colab_link": true,
      "provenance": []
    },
    "kernelspec": {
      "display_name": "exp-tracking-env",
      "language": "python",
      "name": "python3"
    },
    "language_info": {
      "codemirror_mode": {
        "name": "ipython",
        "version": 3
      },
      "file_extension": ".py",
      "mimetype": "text/x-python",
      "name": "python",
      "nbconvert_exporter": "python",
      "pygments_lexer": "ipython3",
      "version": "3.10.16"
    }
  },
  "nbformat": 4,
  "nbformat_minor": 5
}
