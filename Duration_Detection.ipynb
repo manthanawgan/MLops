{
  "cells": [
    {
      "cell_type": "markdown",
      "metadata": {
        "id": "view-in-github",
        "colab_type": "text"
      },
      "source": [
        "<a href=\"https://colab.research.google.com/github/manthanawgan/MLops/blob/main/Duration_Detection.ipynb\" target=\"_parent\"><img src=\"https://colab.research.google.com/assets/colab-badge.svg\" alt=\"Open In Colab\"/></a>"
      ]
    },
    {
      "cell_type": "code",
      "execution_count": 5,
      "id": "df970870",
      "metadata": {
        "id": "df970870"
      },
      "outputs": [],
      "source": [
        "import sklearn\n",
        "import pandas as pd\n",
        "import seaborn as sns\n",
        "import matplotlib.pyplot as plt"
      ]
    },
    {
      "cell_type": "code",
      "source": [
        "from sklearn.feature_extraction import DictVectorizer\n",
        "from sklearn.linear_model import LinearRegression\n",
        "from sklearn.linear_model import Lasso\n",
        "from sklearn.metrics import root_mean_squared_error\n"
      ],
      "metadata": {
        "id": "Vn4q1rAm_bR2"
      },
      "id": "Vn4q1rAm_bR2",
      "execution_count": 6,
      "outputs": []
    },
    {
      "cell_type": "code",
      "source": [
        "import pickle"
      ],
      "metadata": {
        "id": "Aaqu8LCp7-IH"
      },
      "id": "Aaqu8LCp7-IH",
      "execution_count": 56,
      "outputs": []
    },
    {
      "cell_type": "code",
      "execution_count": 7,
      "id": "60af69c5",
      "metadata": {
        "colab": {
          "base_uri": "https://localhost:8080/",
          "height": 36
        },
        "id": "60af69c5",
        "outputId": "232a2048-9a9b-4f0a-9338-b15549011cce"
      },
      "outputs": [
        {
          "output_type": "execute_result",
          "data": {
            "text/plain": [
              "'2.2.2'"
            ],
            "application/vnd.google.colaboratory.intrinsic+json": {
              "type": "string"
            }
          },
          "metadata": {},
          "execution_count": 7
        }
      ],
      "source": [
        "pd.__version__"
      ]
    },
    {
      "cell_type": "code",
      "source": [
        "def read_dataframe(filename):\n",
        "    if filename.endswith('.csv'):\n",
        "        df = pd.read_csv(filename)\n",
        "\n",
        "        df.lpep_dropoff_datetime = pd.to_datetime(df.lpep_dropoff_datetime)\n",
        "        df.lpep_pickup_datetime = pd.to_datetime(df.lpep_pickup_datetime)\n",
        "    elif filename.endswith('.parquet'):\n",
        "        df = pd.read_parquet(filename)\n",
        "\n",
        "    df['duration'] = df.lpep_dropoff_datetime - df.lpep_pickup_datetime\n",
        "    df.duration = df.duration.apply(lambda td: td.total_seconds() / 60)\n",
        "\n",
        "    df = df[(df.duration >= 1) & (df.duration <= 60)]\n",
        "\n",
        "    categorical = ['PULocationID', 'DOLocationID']\n",
        "    df[categorical] = df[categorical].astype(str)\n",
        "\n",
        "    return df"
      ],
      "metadata": {
        "id": "R1-hJAysDtYs"
      },
      "id": "R1-hJAysDtYs",
      "execution_count": 43,
      "outputs": []
    },
    {
      "cell_type": "code",
      "source": [
        "df_train = read_dataframe('/content/green_tripdata_2021-01.parquet')\n",
        "df_val = read_dataframe('/content/green_tripdata_2021-02.parquet')"
      ],
      "metadata": {
        "id": "3SKdwmz2E-71"
      },
      "id": "3SKdwmz2E-71",
      "execution_count": 45,
      "outputs": []
    },
    {
      "cell_type": "code",
      "source": [
        "len(df_train), len(df_val)"
      ],
      "metadata": {
        "colab": {
          "base_uri": "https://localhost:8080/"
        },
        "id": "l9B1nFDUGH8h",
        "outputId": "042debed-56d9-4438-9c3f-86f5c66d0d9f"
      },
      "id": "l9B1nFDUGH8h",
      "execution_count": 46,
      "outputs": [
        {
          "output_type": "execute_result",
          "data": {
            "text/plain": [
              "(73908, 61921)"
            ]
          },
          "metadata": {},
          "execution_count": 46
        }
      ]
    },
    {
      "cell_type": "code",
      "source": [
        "df_train['PU_DO'] = df_train['PULocationID'] + '_' + df_train['DOLocationID']\n",
        "df_val['PU_DO'] = df_val['PULocationID'] + '_' + df_val['DOLocationID']"
      ],
      "metadata": {
        "id": "AENnaGA7JOtq"
      },
      "id": "AENnaGA7JOtq",
      "execution_count": 47,
      "outputs": []
    },
    {
      "cell_type": "code",
      "source": [
        "categorical = ['PU_DO'] #'PULocationID', 'DOLocationID']\n",
        "numerical = ['trip_distance']\n",
        "\n",
        "dv = DictVectorizer()\n",
        "\n",
        "train_dicts = df_train[categorical + numerical].to_dict(orient='records')\n",
        "X_train = dv.fit_transform(train_dicts)\n",
        "\n",
        "val_dicts = df_val[categorical + numerical].to_dict(orient='records')\n",
        "X_val = dv.transform(val_dicts)"
      ],
      "metadata": {
        "id": "R4bf3wVzOnV5"
      },
      "id": "R4bf3wVzOnV5",
      "execution_count": 48,
      "outputs": []
    },
    {
      "cell_type": "code",
      "source": [
        "target = 'duration'\n",
        "y_train = df_train[target].values\n",
        "y_val = df_val[target].values"
      ],
      "metadata": {
        "id": "CaIJzKu3QsBQ"
      },
      "id": "CaIJzKu3QsBQ",
      "execution_count": 49,
      "outputs": []
    },
    {
      "cell_type": "code",
      "source": [
        "lr = LinearRegression()\n",
        "lr.fit(X_train, y_train)\n",
        "\n",
        "y_pred = lr.predict(X_val)\n",
        "\n",
        "root_mean_squared_error(y_val, y_pred)"
      ],
      "metadata": {
        "id": "9g09eTarRF2-",
        "colab": {
          "base_uri": "https://localhost:8080/"
        },
        "outputId": "bfc726b2-4968-4646-b771-1255c6d8dc05"
      },
      "id": "9g09eTarRF2-",
      "execution_count": 50,
      "outputs": [
        {
          "output_type": "execute_result",
          "data": {
            "text/plain": [
              "7.758715209663881"
            ]
          },
          "metadata": {},
          "execution_count": 50
        }
      ]
    },
    {
      "cell_type": "code",
      "source": [],
      "metadata": {
        "id": "P96BVKy379E4"
      },
      "id": "P96BVKy379E4",
      "execution_count": null,
      "outputs": []
    },
    {
      "cell_type": "code",
      "source": [
        "sns.distplot(y_train, label='prediction')\n",
        "sns.distplot(y_pred, label='actual')\n",
        "\n",
        "plt.legend()"
      ],
      "metadata": {
        "colab": {
          "base_uri": "https://localhost:8080/",
          "height": 829
        },
        "id": "F_QPcxwD6Ozt",
        "outputId": "31e4a38a-5c1e-4477-ffc2-512b6c89c51d"
      },
      "id": "F_QPcxwD6Ozt",
      "execution_count": 51,
      "outputs": [
        {
          "output_type": "stream",
          "name": "stderr",
          "text": [
            "<ipython-input-51-35a8030b352b>:1: UserWarning: \n",
            "\n",
            "`distplot` is a deprecated function and will be removed in seaborn v0.14.0.\n",
            "\n",
            "Please adapt your code to use either `displot` (a figure-level function with\n",
            "similar flexibility) or `histplot` (an axes-level function for histograms).\n",
            "\n",
            "For a guide to updating your code to use the new functions, please see\n",
            "https://gist.github.com/mwaskom/de44147ed2974457ad6372750bbe5751\n",
            "\n",
            "  sns.distplot(y_train, label='prediction')\n",
            "<ipython-input-51-35a8030b352b>:2: UserWarning: \n",
            "\n",
            "`distplot` is a deprecated function and will be removed in seaborn v0.14.0.\n",
            "\n",
            "Please adapt your code to use either `displot` (a figure-level function with\n",
            "similar flexibility) or `histplot` (an axes-level function for histograms).\n",
            "\n",
            "For a guide to updating your code to use the new functions, please see\n",
            "https://gist.github.com/mwaskom/de44147ed2974457ad6372750bbe5751\n",
            "\n",
            "  sns.distplot(y_pred, label='actual')\n"
          ]
        },
        {
          "output_type": "execute_result",
          "data": {
            "text/plain": [
              "<matplotlib.legend.Legend at 0x7ac211b461d0>"
            ]
          },
          "metadata": {},
          "execution_count": 51
        },
        {
          "output_type": "display_data",
          "data": {
            "text/plain": [
              "<Figure size 640x480 with 1 Axes>"
            ],
            "image/png": "[encoded data removed]"
          },
          "metadata": {}
        }
      ]
    },
    {
      "cell_type": "code",
      "source": [
        "ls = Lasso(0.01)\n",
        "ls.fit(X_train, y_train)\n",
        "\n",
        "y_pred = ls.predict(X_val)\n",
        "root_mean_squared_error(y_val, y_pred)"
      ],
      "metadata": {
        "colab": {
          "base_uri": "https://localhost:8080/"
        },
        "id": "WjD9iFfA6qay",
        "outputId": "c98ca399-09eb-40d6-817e-c7d3f2136886"
      },
      "id": "WjD9iFfA6qay",
      "execution_count": 53,
      "outputs": [
        {
          "output_type": "execute_result",
          "data": {
            "text/plain": [
              "11.167275941179728"
            ]
          },
          "metadata": {},
          "execution_count": 53
        }
      ]
    },
    {
      "cell_type": "code",
      "source": [],
      "metadata": {
        "id": "Ffs-Fwbn7UCC"
      },
      "id": "Ffs-Fwbn7UCC",
      "execution_count": null,
      "outputs": []
    }
  ],
  "metadata": {
    "kernelspec": {
      "display_name": "Python 3",
      "name": "python3"
    },
    "language_info": {
      "codemirror_mode": {
        "name": "ipython",
        "version": 3
      },
      "file_extension": ".py",
      "mimetype": "text/x-python",
      "name": "python",
      "nbconvert_exporter": "python",
      "pygments_lexer": "ipython3",
      "version": "3.9.12"
    },
    "colab": {
      "provenance": [],
      "include_colab_link": true
    }
  },
  "nbformat": 4,
  "nbformat_minor": 5
}